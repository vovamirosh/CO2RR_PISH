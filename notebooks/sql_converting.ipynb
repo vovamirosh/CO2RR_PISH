{
 "cells": [
  {
   "cell_type": "code",
   "execution_count": 1,
   "metadata": {},
   "outputs": [],
   "source": [
    "import pandas as pd\n",
    "import csv\n",
    "import sqlite3"
   ]
  },
  {
   "cell_type": "code",
   "execution_count": null,
   "metadata": {},
   "outputs": [
    {
     "name": "stdout",
     "output_type": "stream",
     "text": [
      "<class 'pandas.core.frame.DataFrame'>\n",
      "Index: 3085 entries, 0 to 3084\n",
      "Data columns (total 37 columns):\n",
      " #   Column                      Non-Null Count  Dtype  \n",
      "---  ------                      --------------  -----  \n",
      " 0   DOI                         3085 non-null   object \n",
      " 1   Article name                3085 non-null   object \n",
      " 2   Formula                     3085 non-null   object \n",
      " 3   Cat. compound               3085 non-null   object \n",
      " 4   Support                     3085 non-null   object \n",
      " 5   Cat./Support ratio, % (at)  3085 non-null   float64\n",
      " 6   Morphology (TEM/SEM)        3085 non-null   object \n",
      " 7   Pore size, nm               3085 non-null   float64\n",
      " 8   width min (nm)              3085 non-null   float64\n",
      " 9   width aver (nm)             3085 non-null   float64\n",
      " 10  width max (nm)              3085 non-null   float64\n",
      " 11  length min (nm)             3085 non-null   float64\n",
      " 12  length aver (nm)            3085 non-null   float64\n",
      " 13  length max (nm)             3085 non-null   float64\n",
      " 14  Cu, % (at.)                 3085 non-null   float64\n",
      " 15  Cu+, % (at.)                3085 non-null   float64\n",
      " 16  Cu(2+), % (at.)             3085 non-null   float64\n",
      " 17  Base                        3085 non-null   object \n",
      " 18  electrolyte                 3085 non-null   object \n",
      " 19  conc, M                     3085 non-null   float64\n",
      " 20  pH                          3085 non-null   float64\n",
      " 21  RHE vs V                    3085 non-null   float64\n",
      " 22  Time, h                     3085 non-null   float64\n",
      " 23  Type of reactor             3085 non-null   object \n",
      " 24  Av_ar_exactmw               3085 non-null   float64\n",
      " 25  Av_ar_lipinskiHBA           3085 non-null   float64\n",
      " 26  Av_ar_lipinskiHBD           3085 non-null   float64\n",
      " 27  Av_ar_NumHBA                3085 non-null   float64\n",
      " 28  Av_ar_NumHeavyAtoms         3085 non-null   float64\n",
      " 29  Av_harm_labuteASA           3085 non-null   float64\n",
      " 30  Av_harm_CrippenClogP        3085 non-null   float64\n",
      " 31  Av_harm_kappa1              3085 non-null   float64\n",
      " 32  Av_harm_kappa3              3085 non-null   float64\n",
      " 33  Av_harm_Energy of +1 ion    3085 non-null   float64\n",
      " 34  Av_harm_Metal_radius        3085 non-null   float64\n",
      " 35  Product                     3085 non-null   object \n",
      " 36  FE, %                       3085 non-null   float64\n",
      "dtypes: float64(27), object(10)\n",
      "memory usage: 915.9+ KB\n"
     ]
    }
   ],
   "source": [
    "df_to_db = pd.read_csv(\"Datasets\\data_with_0.csv\", index_col=0)"
   ]
  },
  {
   "cell_type": "code",
   "execution_count": 4,
   "metadata": {},
   "outputs": [],
   "source": [
    "conn = sqlite3.connect('Datasets\\\\final.db')\n",
    "\n",
    "df_to_db.to_sql('co2rr', conn, if_exists='replace', index=False)\n",
    "\n",
    "conn.close()"
   ]
  }
 ],
 "metadata": {
  "kernelspec": {
   "display_name": ".venv",
   "language": "python",
   "name": "python3"
  },
  "language_info": {
   "codemirror_mode": {
    "name": "ipython",
    "version": 3
   },
   "file_extension": ".py",
   "mimetype": "text/x-python",
   "name": "python",
   "nbconvert_exporter": "python",
   "pygments_lexer": "ipython3",
   "version": "3.11.7"
  }
 },
 "nbformat": 4,
 "nbformat_minor": 2
}
