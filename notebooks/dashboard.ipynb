{
 "cells": [
  {
   "cell_type": "code",
   "execution_count": 1,
   "metadata": {},
   "outputs": [
    {
     "name": "stderr",
     "output_type": "stream",
     "text": [
      "C:\\Users\\Владимир\\AppData\\Local\\Temp\\ipykernel_14400\\1157361045.py:2: UserWarning: \n",
      "The dash_core_components package is deprecated. Please replace\n",
      "`import dash_core_components as dcc` with `from dash import dcc`\n",
      "  import dash_core_components as dcc\n"
     ]
    }
   ],
   "source": [
    "import dash\n",
    "import dash_core_components as dcc\n",
    "from dash import html\n",
    "import plotly.express as px\n",
    "import pandas as pd\n",
    "import seaborn as sns\n",
    "\n",
    "from plotly.subplots import make_subplots\n",
    "import plotly.graph_objects as go\n",
    "\n",
    "import os"
   ]
  },
  {
   "cell_type": "code",
   "execution_count": 2,
   "metadata": {},
   "outputs": [],
   "source": [
    "dir_name = os.getcwd()\n",
    "dir_name = os.path.split(dir_name)[0]\n",
    "\n",
    "df = pd.read_csv(f\"{dir_name}\\\\Datasets\\data_with_0.csv\")\n",
    "df_not_null = df[df[\"FE, %\"] > 0]\n",
    "df_raw = pd.read_csv(f\"{dir_name}\\\\Datasets\\\\raw_dataset.csv\")"
   ]
  },
  {
   "cell_type": "code",
   "execution_count": 3,
   "metadata": {},
   "outputs": [],
   "source": [
    "def sum_product():\n",
    "    products = list(df[\"Product\"].unique())\n",
    "    num_products = len(products)\n",
    "    colors = px.colors.qualitative.Plotly[:num_products]\n",
    "    nrows = (num_products // 4) + (1 if num_products % 4 != 0 else 0)\n",
    "\n",
    "    fig = make_subplots(rows=nrows,\n",
    "                        cols=4,\n",
    "                        subplot_titles=products)\n",
    "\n",
    "    for product, c in zip(products, colors):\n",
    "        act_row = products.index(product) // 4 + 1\n",
    "        act_col = products.index(product) % 4 + 1\n",
    "        fig.add_trace(\n",
    "            go.Histogram(x=df_not_null[df_not_null[\"Product\"] == product][\"FE, %\"], marker_color=c), row=act_row, col=act_col\n",
    "            )\n",
    "\n",
    "    fig.update_layout(height=600, width=1200, title_text=\"Распределение Фарадаевской эффективности<br>по продуктами\", \n",
    "                      title_x=0.5, showlegend=False, bargap=0.2)\n",
    "    return fig"
   ]
  },
  {
   "cell_type": "code",
   "execution_count": 4,
   "metadata": {},
   "outputs": [],
   "source": [
    "# Main metrics\n",
    "\n",
    "drop_data_rate = round(len(df_not_null) / len(df_raw) * 100, 2)\n",
    "null_data_rate = round(len(df_not_null) / len(df) * 100, 2)\n",
    "unic_catal = len(df.groupby(by=['DOI', 'Article name']).groups)\n",
    "sours_art = len(df_not_null[\"DOI\"].unique())"
   ]
  },
  {
   "cell_type": "code",
   "execution_count": 5,
   "metadata": {},
   "outputs": [
    {
     "data": {
      "text/html": [
       "\n",
       "        <iframe\n",
       "            width=\"100%\"\n",
       "            height=\"650\"\n",
       "            src=\"http://127.0.0.1:8050/\"\n",
       "            frameborder=\"0\"\n",
       "            allowfullscreen\n",
       "            \n",
       "        ></iframe>\n",
       "        "
      ],
      "text/plain": [
       "<IPython.lib.display.IFrame at 0x2750dbdb290>"
      ]
     },
     "metadata": {},
     "output_type": "display_data"
    }
   ],
   "source": [
    "app = dash.Dash(__name__)\n",
    "\n",
    "diamonds = sns.load_dataset(\"diamonds\")\n",
    "df = pd.read_csv(f\"{dir_name}\\\\Datasets\\data_with_0.csv\")\n",
    "\n",
    "pie = px.pie(\n",
    "   data_frame=df,\n",
    "   values=list(df[df[\"FE, %\"] > 0][\"Product\"].value_counts()),\n",
    "   names=df[\"Product\"].unique(),\n",
    "   title=\"Распределение ненулевых значений <br>Фарадеевской эффективности по продуктам\",\n",
    "   width=600,\n",
    "   height=400,\n",
    ")\n",
    "\n",
    "pie.update_layout(\n",
    "    title_x = 0.5\n",
    ")\n",
    "\n",
    "histogram = px.histogram(\n",
    "   data_frame=df,\n",
    "   x=df[df[\"FE, %\"] > 0][\"FE, %\"],\n",
    "   title=\"Общая гистограмма ненулевых значений <br>Фарадеевской эффективности\",\n",
    "   width=600,\n",
    "   height=400,\n",
    ")\n",
    "\n",
    "histogram.update_layout(\n",
    "    yaxis_title='FE, %',\n",
    "    font=dict(size=12),\n",
    "    title_x = 0.5,\n",
    "    bargap=0.2\n",
    ")\n",
    "\n",
    "sum = sum_product()\n",
    "\n",
    "\n",
    "left_fig = html.Div(children=dcc.Graph(figure=pie))\n",
    "right_fig = html.Div(children=dcc.Graph(figure=histogram))\n",
    "\n",
    "top_div = html.Div(style={'backgroundColor': '#FFFFFF'}, children=[\n",
    "    html.H1('Ключевые метрики проекта CO2RR', style={\"font-family\": \"Open Sans\"}),\n",
    "    *[\n",
    "        html.Span('Процент сохранённых после обработки строчек: ', style={\"font-family\": \"Open Sans\"}),\n",
    "        html.Span(f'{drop_data_rate} %', style={'color': 'blue', \"font-family\": \"Open Sans\"}),\n",
    "        html.Br(),\n",
    "\n",
    "        html.Span('Процент нулевых строк в итоговом датасете: ', style={\"font-family\": \"Open Sans\"}),\n",
    "        html.Span(f'{null_data_rate} %', style={'color': 'blue', \"font-family\": \"Open Sans\"}),\n",
    "        html.Br(),\n",
    "\n",
    "        html.Span('Количество уникальных катализаторов: ', style={\"font-family\": \"Open Sans\"}),\n",
    "        html.Span(f'{unic_catal}', style={'color': 'blue', \"font-family\": \"Open Sans\"}),\n",
    "        html.Br(),\n",
    "\n",
    "        html.Span('Количество литературных источников: ', style={\"font-family\": \"Open Sans\"}),\n",
    "        html.Span(f'{sours_art}', style={'color': 'blue', \"font-family\": \"Open Sans\"}),\n",
    "        html.Br()          \n",
    "    ]\n",
    "])\n",
    "\n",
    "\n",
    "\n",
    "central_div = html.Div([left_fig, right_fig], style={\"display\": \"flex\"})\n",
    "bottom_div = html.Div(\n",
    "   children=dcc.Graph(figure=sum),\n",
    "   style={\"display\": \"flex\"},\n",
    ")\n",
    "app.layout = html.Div([top_div, central_div, bottom_div])\n",
    "\n",
    "if __name__ == \"__main__\":\n",
    "   app.run(port=8050, dev_tools_hot_reload=True)"
   ]
  }
 ],
 "metadata": {
  "kernelspec": {
   "display_name": ".venv",
   "language": "python",
   "name": "python3"
  },
  "language_info": {
   "codemirror_mode": {
    "name": "ipython",
    "version": 3
   },
   "file_extension": ".py",
   "mimetype": "text/x-python",
   "name": "python",
   "nbconvert_exporter": "python",
   "pygments_lexer": "ipython3",
   "version": "3.11.7"
  }
 },
 "nbformat": 4,
 "nbformat_minor": 2
}
