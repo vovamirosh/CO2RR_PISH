{
 "cells": [
  {
   "cell_type": "code",
   "execution_count": 2,
   "metadata": {},
   "outputs": [],
   "source": [
    "import pandas as pd\n",
    "import csv\n",
    "import sqlite3\n"
   ]
  },
  {
   "cell_type": "code",
   "execution_count": 6,
   "metadata": {},
   "outputs": [
    {
     "name": "stdout",
     "output_type": "stream",
     "text": [
      "<class 'pandas.core.frame.DataFrame'>\n",
      "Index: 3085 entries, 0 to 3084\n",
      "Data columns (total 37 columns):\n",
      " #   Column                      Non-Null Count  Dtype  \n",
      "---  ------                      --------------  -----  \n",
      " 0   DOI                         3085 non-null   object \n",
      " 1   Article name                3085 non-null   object \n",
      " 2   Formula                     3085 non-null   object \n",
      " 3   Cat. compound               3085 non-null   object \n",
      " 4   Support                     3085 non-null   object \n",
      " 5   Cat./Support ratio, % (at)  3085 non-null   float64\n",
      " 6   Morphology (TEM/SEM)        3085 non-null   object \n",
      " 7   Pore size, nm               3085 non-null   float64\n",
      " 8   width min (nm)              3085 non-null   float64\n",
      " 9   width aver (nm)             3085 non-null   float64\n",
      " 10  width max (nm)              3085 non-null   float64\n",
      " 11  length min (nm)             3085 non-null   float64\n",
      " 12  length aver (nm)            3085 non-null   float64\n",
      " 13  length max (nm)             3085 non-null   float64\n",
      " 14  Cu, % (at.)                 3085 non-null   float64\n",
      " 15  Cu+, % (at.)                3085 non-null   float64\n",
      " 16  Cu(2+), % (at.)             3085 non-null   float64\n",
      " 17  Base                        3085 non-null   object \n",
      " 18  electrolyte                 3085 non-null   object \n",
      " 19  conc, M                     3085 non-null   float64\n",
      " 20  pH                          3085 non-null   float64\n",
      " 21  RHE vs V                    3085 non-null   float64\n",
      " 22  Time, h                     3085 non-null   float64\n",
      " 23  Type of reactor             3085 non-null   object \n",
      " 24  Av_ar_exactmw               3085 non-null   float64\n",
      " 25  Av_ar_lipinskiHBA           3085 non-null   float64\n",
      " 26  Av_ar_lipinskiHBD           3085 non-null   float64\n",
      " 27  Av_ar_NumHBA                3085 non-null   float64\n",
      " 28  Av_ar_NumHeavyAtoms         3085 non-null   float64\n",
      " 29  Av_harm_labuteASA           3085 non-null   float64\n",
      " 30  Av_harm_CrippenClogP        3085 non-null   float64\n",
      " 31  Av_harm_kappa1              3085 non-null   float64\n",
      " 32  Av_harm_kappa3              3085 non-null   float64\n",
      " 33  Av_harm_Energy of +1 ion    3085 non-null   float64\n",
      " 34  Av_harm_Metal_radius        3085 non-null   float64\n",
      " 35  Product                     3085 non-null   object \n",
      " 36  FE, %                       3085 non-null   float64\n",
      "dtypes: float64(27), object(10)\n",
      "memory usage: 915.9+ KB\n"
     ]
    }
   ],
   "source": [
    "df_to_db = pd.read_csv(\"Datasets\\data_with_0.csv\", index_col=0)\n",
    "df_to_db.info()"
   ]
  },
  {
   "cell_type": "code",
   "execution_count": 19,
   "metadata": {},
   "outputs": [
    {
     "data": {
      "text/plain": [
       "'float64'"
      ]
     },
     "execution_count": 19,
     "metadata": {},
     "output_type": "execute_result"
    }
   ],
   "source": [
    "str(df_to_db.dtypes[\"FE, %\"])"
   ]
  },
  {
   "cell_type": "code",
   "execution_count": 24,
   "metadata": {},
   "outputs": [
    {
     "name": "stdout",
     "output_type": "stream",
     "text": [
      "'DOI' TEXT, \n",
      "'Article name' TEXT, \n",
      "'Formula' TEXT, \n",
      "'Cat. compound' TEXT, \n",
      "'Support' TEXT, \n",
      "'Cat./Support ratio, % (at)' REAL, \n",
      "'Morphology (TEM/SEM)' TEXT, \n",
      "'Pore size, nm' REAL, \n",
      "'width min (nm)' REAL, \n",
      "'width aver (nm)' REAL, \n",
      "'width max (nm)' REAL, \n",
      "'length min (nm)' REAL, \n",
      "'length aver (nm)' REAL, \n",
      "'length max (nm)' REAL, \n",
      "'Cu, % (at.)' REAL, \n",
      "'Cu+, % (at.)' REAL, \n",
      "'Cu(2+), % (at.)' REAL, \n",
      "'Base' TEXT, \n",
      "'electrolyte' TEXT, \n",
      "'conc, M' REAL, \n",
      "'pH' REAL, \n",
      "'RHE vs V' REAL, \n",
      "'Time, h' REAL, \n",
      "'Type of reactor' TEXT, \n",
      "'Av_ar_exactmw' REAL, \n",
      "'Av_ar_lipinskiHBA' REAL, \n",
      "'Av_ar_lipinskiHBD' REAL, \n",
      "'Av_ar_NumHBA' REAL, \n",
      "'Av_ar_NumHeavyAtoms' REAL, \n",
      "'Av_harm_labuteASA' REAL, \n",
      "'Av_harm_CrippenClogP' REAL, \n",
      "'Av_harm_kappa1' REAL, \n",
      "'Av_harm_kappa3' REAL, \n",
      "'Av_harm_Energy of +1 ion' REAL, \n",
      "'Av_harm_Metal_radius' REAL, \n",
      "'Product' TEXT, \n",
      "'FE, %' REAL, \n",
      "\n"
     ]
    }
   ],
   "source": [
    "def form_query(df):\n",
    "    query_text = str()\n",
    "    dtyp_to_sq = { 'float64': 'REAL',\n",
    "                    'object': 'TEXT',\n",
    "    }\n",
    "    for col in df_to_db.columns:\n",
    "        col_type = str(df_to_db.dtypes[col])\n",
    "        query_text += f\"'{col}' {dtyp_to_sq[col_type]}, \\n\"     \n",
    "    return query_text\n",
    "\n",
    "print(form_query(df_to_db))"
   ]
  },
  {
   "cell_type": "code",
   "execution_count": null,
   "metadata": {},
   "outputs": [],
   "source": [
    "# Import required modules\n",
    "import csv\n",
    "import sqlite3\n",
    "\n",
    "# Connecting to the geeks database\n",
    "connection = sqlite3.connect('g4g.db')\n",
    "\n",
    "# Creating a cursor object to execute\n",
    "# SQL queries on a database table\n",
    "cursor = connection.cursor()\n",
    "\n",
    "# Table Definition\n",
    "create_table = '''CREATE TABLE person(\n",
    "\t\t\t\tid INTEGER PRIMARY KEY AUTOINCREMENT,\n",
    "\t\t\t\tname TEXT NOT NULL,\n",
    "\t\t\t\tage INTEGER NOT NULL);\n",
    "\t\t\t\t'''\n",
    "\n",
    "# Creating the table into our \n",
    "# database\n",
    "cursor.execute(create_table)\n",
    "\n",
    "# Opening the person-records.csv file\n",
    "file = open('person-records.csv')\n",
    "\n",
    "# Reading the contents of the \n",
    "# person-records.csv file\n",
    "contents = csv.reader(file)\n",
    "\n",
    "# SQL query to insert data into the\n",
    "# person table\n",
    "insert_records = \"INSERT INTO person (name, age) VALUES(?, ?)\"\n",
    "\n",
    "# Importing the contents of the file \n",
    "# into our person table\n",
    "cursor.executemany(insert_records, contents)\n",
    "\n",
    "# SQL query to retrieve all data from\n",
    "# the person table To verify that the\n",
    "# data of the csv file has been successfully \n",
    "# inserted into the table\n",
    "select_all = \"SELECT * FROM person\"\n",
    "rows = cursor.execute(select_all).fetchall()\n",
    "\n",
    "# Output to the console screen\n",
    "for r in rows:\n",
    "\tprint(r)\n",
    "\n",
    "# Committing the changes\n",
    "connection.commit()\n",
    "\n",
    "# closing the database connection\n",
    "connection.close()\n"
   ]
  },
  {
   "cell_type": "code",
   "execution_count": null,
   "metadata": {},
   "outputs": [],
   "source": [
    "connection = sqlite3.connect('CO2RR.db')\n",
    "cursor = connection.cursor()"
   ]
  }
 ],
 "metadata": {
  "kernelspec": {
   "display_name": ".venv",
   "language": "python",
   "name": "python3"
  },
  "language_info": {
   "codemirror_mode": {
    "name": "ipython",
    "version": 3
   },
   "file_extension": ".py",
   "mimetype": "text/x-python",
   "name": "python",
   "nbconvert_exporter": "python",
   "pygments_lexer": "ipython3",
   "version": "3.11.7"
  }
 },
 "nbformat": 4,
 "nbformat_minor": 2
}
